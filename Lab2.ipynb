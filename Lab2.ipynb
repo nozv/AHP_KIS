{
  "cells": [
    {
      "cell_type": "markdown",
      "source": [
        "Ноздрова В. ИУ5-81Б"
      ],
      "metadata": {
        "id": "Bw-ffEDB3t0S"
      }
    },
    {
      "cell_type": "markdown",
      "metadata": {
        "id": "iaA0tmr72VLf"
      },
      "source": [
        "## Задание 1"
      ]
    },
    {
      "cell_type": "markdown",
      "metadata": {
        "id": "c1LokaERsIfo"
      },
      "source": [
        "Условие по варианту:"
      ]
    },
    {
      "cell_type": "code",
      "execution_count": null,
      "metadata": {
        "colab": {
          "base_uri": "https://localhost:8080/",
          "height": 255
        },
        "id": "ZX41DYMww93Q",
        "outputId": "bea5a1cc-cd90-4154-8748-0d9108e0c0a0"
      },
      "outputs": [
        {
          "data": {
            "text/html": [
              "<table class=\"dataframe\">\n",
              "<caption>A data.frame: 5 × 6</caption>\n",
              "<thead>\n",
              "\t<tr><th scope=col>X1</th><th scope=col>X2</th><th scope=col>X3</th><th scope=col>p1</th><th scope=col>p2</th><th scope=col>p3</th></tr>\n",
              "\t<tr><th scope=col>&lt;int&gt;</th><th scope=col>&lt;int&gt;</th><th scope=col>&lt;int&gt;</th><th scope=col>&lt;dbl&gt;</th><th scope=col>&lt;dbl&gt;</th><th scope=col>&lt;dbl&gt;</th></tr>\n",
              "</thead>\n",
              "<tbody>\n",
              "\t<tr><td> 5</td><td>40</td><td>19</td><td>0.27845645</td><td>0.23495734</td><td>0.25878175</td></tr>\n",
              "\t<tr><td>15</td><td>51</td><td>37</td><td>0.28814146</td><td>0.27368903</td><td>0.27083565</td></tr>\n",
              "\t<tr><td>10</td><td> 7</td><td> 0</td><td>0.28441965</td><td>0.04442667</td><td>0.13947218</td></tr>\n",
              "\t<tr><td> 2</td><td>91</td><td>11</td><td>0.12818869</td><td>0.06162459</td><td>0.26709313</td></tr>\n",
              "\t<tr><td> 9</td><td>78</td><td>36</td><td>0.02079376</td><td>0.38530236</td><td>0.06381728</td></tr>\n",
              "</tbody>\n",
              "</table>\n"
            ],
            "text/latex": "A data.frame: 5 × 6\n\\begin{tabular}{llllll}\n X1 & X2 & X3 & p1 & p2 & p3\\\\\n <int> & <int> & <int> & <dbl> & <dbl> & <dbl>\\\\\n\\hline\n\t  5 & 40 & 19 & 0.27845645 & 0.23495734 & 0.25878175\\\\\n\t 15 & 51 & 37 & 0.28814146 & 0.27368903 & 0.27083565\\\\\n\t 10 &  7 &  0 & 0.28441965 & 0.04442667 & 0.13947218\\\\\n\t  2 & 91 & 11 & 0.12818869 & 0.06162459 & 0.26709313\\\\\n\t  9 & 78 & 36 & 0.02079376 & 0.38530236 & 0.06381728\\\\\n\\end{tabular}\n",
            "text/markdown": "\nA data.frame: 5 × 6\n\n| X1 &lt;int&gt; | X2 &lt;int&gt; | X3 &lt;int&gt; | p1 &lt;dbl&gt; | p2 &lt;dbl&gt; | p3 &lt;dbl&gt; |\n|---|---|---|---|---|---|\n|  5 | 40 | 19 | 0.27845645 | 0.23495734 | 0.25878175 |\n| 15 | 51 | 37 | 0.28814146 | 0.27368903 | 0.27083565 |\n| 10 |  7 |  0 | 0.28441965 | 0.04442667 | 0.13947218 |\n|  2 | 91 | 11 | 0.12818869 | 0.06162459 | 0.26709313 |\n|  9 | 78 | 36 | 0.02079376 | 0.38530236 | 0.06381728 |\n\n",
            "text/plain": [
              "  X1 X2 X3 p1         p2         p3        \n",
              "1  5 40 19 0.27845645 0.23495734 0.25878175\n",
              "2 15 51 37 0.28814146 0.27368903 0.27083565\n",
              "3 10  7  0 0.28441965 0.04442667 0.13947218\n",
              "4  2 91 11 0.12818869 0.06162459 0.26709313\n",
              "5  9 78 36 0.02079376 0.38530236 0.06381728"
            ]
          },
          "metadata": {},
          "output_type": "display_data"
        }
      ],
      "source": [
        "Variant<-15\n",
        "set.seed(Variant)\n",
        "X1<-sample(c(1:20),5)\n",
        "X2<-sample(c(3:100),5)\n",
        "X3<-sample(c(0:40),5)\n",
        "pp1<-runif(5)\n",
        "p1<-pp1/sum(pp1)\n",
        "pp2<-runif(5)\n",
        "p2<-pp2/sum(pp2)\n",
        "pp3<-runif(5)\n",
        "p3<-pp3/sum(pp3)\n",
        "var <- data.frame(X1, X2, X3, p1, p2, p3)\n",
        "View(var)"
      ]
    },
    {
      "cell_type": "markdown",
      "metadata": {
        "id": "SOPNNmuJsK5y"
      },
      "source": [
        "Получение случайных величин:"
      ]
    },
    {
      "cell_type": "code",
      "execution_count": null,
      "metadata": {
        "id": "GdgNruz0rwbN"
      },
      "outputs": [],
      "source": [
        "gen <- function(n, probs, arg) {return(sample(arg,n,replace=TRUE,prob=probs))}"
      ]
    },
    {
      "cell_type": "code",
      "execution_count": null,
      "metadata": {
        "id": "GOcCcm4LUz5j"
      },
      "outputs": [],
      "source": [
        "n <- 1000000\n",
        "x1 <- gen(n, var$p1, var$X1)\n",
        "x2 <- gen(n, var$p2, var$X2)\n",
        "x3 <- gen(n, var$p3, var$X3)\n",
        "x <- x1+x2+x3"
      ]
    },
    {
      "cell_type": "markdown",
      "metadata": {
        "id": "SWhrcBFr0jUJ"
      },
      "source": [
        "Получение производящих функций:"
      ]
    },
    {
      "cell_type": "code",
      "execution_count": null,
      "metadata": {
        "id": "Rgs9xTWa0oNU"
      },
      "outputs": [],
      "source": [
        "#p_xi = sum(pi*z^xi)\n",
        "p <- function(prob,arg)\n",
        "{\n",
        "  e<-''\n",
        "  for (i in (2:nrow(var)-1))\n",
        "    e <- capture.output(cat(paste0(e,prob[i],'*z^',arg[i],'+')))\n",
        "  e <- capture.output(cat(paste0(e, prob[nrow(var)],'*z^',arg[nrow(var)])))\n",
        "  return(e)\n",
        "}"
      ]
    },
    {
      "cell_type": "code",
      "execution_count": null,
      "metadata": {
        "id": "KxdpMgQKLYaX"
      },
      "outputs": [],
      "source": [
        "px1 <- p(var$p1, var$X1)\n",
        "px2 <- p(var$p2, var$X2)\n",
        "px3 <- p(var$p3, var$X3)\n",
        "#p_x1+x2+x3 = p_x1*p_x2*p_x3\n",
        "px <- parse(text=capture.output(cat(paste0('(', px1,')*(',px2,')*(',px3,')'))))"
      ]
    },
    {
      "cell_type": "markdown",
      "metadata": {
        "id": "Vyq3AB3zEu4-"
      },
      "source": [
        "#### 1. Мат. ожидание\n",
        "\n",
        "  Мат. ожидание случайной величины, распределенной по закону Пуассона:\n",
        "\n",
        "$M[X]=\\sum_{k=0}^N p_k\\cdot x_k$\n",
        "\n",
        "  По условию $X_1$, $X_2$, $X_3$ независимы, тогда:\n",
        "  \n",
        "  $M[X_1+X_2+X_3] = M[X_1] + M[X_2] + M[X_3]$"
      ]
    },
    {
      "cell_type": "code",
      "execution_count": null,
      "metadata": {
        "colab": {
          "base_uri": "https://localhost:8080/",
          "height": 34
        },
        "id": "Ru9tkgNryOCb",
        "outputId": "7f67eb4b-2f75-4a15-82c7-446dec9f7349"
      },
      "outputs": [
        {
          "data": {
            "text/html": [
              "88.5041839316698"
            ],
            "text/latex": "88.5041839316698",
            "text/markdown": "88.5041839316698",
            "text/plain": [
              "[1] 88.50418"
            ]
          },
          "metadata": {},
          "output_type": "display_data"
        }
      ],
      "source": [
        "#по определению\n",
        "m1 <- sum(var$X1 * var$p1)\n",
        "m2 <- sum(var$X2 * var$p2)\n",
        "m3 <- sum(var$X3 * var$p3)\n",
        "m <- m1+m2+m3; m"
      ]
    },
    {
      "cell_type": "markdown",
      "metadata": {
        "id": "gm3JdvDvFDla"
      },
      "source": [
        "Мат. ожидание по производящей функции:\n",
        "\n",
        "$M(X)=P'_{X}(z)|_{z=1}$"
      ]
    },
    {
      "cell_type": "code",
      "execution_count": null,
      "metadata": {
        "colab": {
          "base_uri": "https://localhost:8080/",
          "height": 34
        },
        "id": "S1teTByyOVfj",
        "outputId": "a455609a-346e-4157-f307-4947a7fb7757"
      },
      "outputs": [
        {
          "data": {
            "text/html": [
              "88.5041839316698"
            ],
            "text/latex": "88.5041839316698",
            "text/markdown": "88.5041839316698",
            "text/plain": [
              "[1] 88.50418"
            ]
          },
          "metadata": {},
          "output_type": "display_data"
        }
      ],
      "source": [
        "#с помощью производящей функции\n",
        "z <- 1\n",
        "mx <- D(px, \"z\")\n",
        "eval(mx)"
      ]
    },
    {
      "cell_type": "code",
      "execution_count": null,
      "metadata": {
        "colab": {
          "base_uri": "https://localhost:8080/",
          "height": 34
        },
        "id": "7_HUhwfWVRFw",
        "outputId": "50edc515-f5f7-41d2-e168-a0c11059e2c4"
      },
      "outputs": [
        {
          "data": {
            "text/html": [
              "88.467403"
            ],
            "text/latex": "88.467403",
            "text/markdown": "88.467403",
            "text/plain": [
              "[1] 88.4674"
            ]
          },
          "metadata": {},
          "output_type": "display_data"
        }
      ],
      "source": [
        "#экспериментально\n",
        "mean(x)"
      ]
    },
    {
      "cell_type": "markdown",
      "metadata": {
        "id": "gNxA-Rx5FLZZ"
      },
      "source": [
        "#### 2. Дисперсия\n",
        "\n",
        "  Дисперсия случайной величины, распределенной по закону Пуассона:\n",
        "\n",
        "  $D[X]=\\sum_{k=0}^N p_k\\cdot (x_k-M[X])^2$\n",
        "\n",
        "  По условию $X_1$, $X_2$, $X_3$ независимы, тогда:\n",
        "\n",
        "  $D[X_1+X_2+X_3] = D[X_1]+D[X_2]+D[X_3]$"
      ]
    },
    {
      "cell_type": "code",
      "execution_count": null,
      "metadata": {
        "colab": {
          "base_uri": "https://localhost:8080/",
          "height": 34
        },
        "id": "rnox69jXC4cx",
        "outputId": "55a784cb-e08e-4698-9013-aa83c41304f5"
      },
      "outputs": [
        {
          "data": {
            "text/html": [
              "618.209999315821"
            ],
            "text/latex": "618.209999315821",
            "text/markdown": "618.209999315821",
            "text/plain": [
              "[1] 618.21"
            ]
          },
          "metadata": {},
          "output_type": "display_data"
        }
      ],
      "source": [
        "#по определению\n",
        "d1 <- sum(var$p1 * (var$X1 - m1)^2)\n",
        "d2 <- sum(var$p2 * (var$X2 - m2)^2)\n",
        "d3 <- sum(var$p3 * (var$X3 - m3)^2)\n",
        "d <- d1 + d2 + d3; d"
      ]
    },
    {
      "cell_type": "markdown",
      "metadata": {
        "id": "OWFPSmuhFYLy"
      },
      "source": [
        "$D(X)=P''_{X}(z)|_{z=1}+P'_{X}(z)|_{z=1}-\\left(P'_{X}(z)\\right)^2|_{z=1}$"
      ]
    },
    {
      "cell_type": "code",
      "execution_count": null,
      "metadata": {
        "colab": {
          "base_uri": "https://localhost:8080/",
          "height": 34
        },
        "id": "ccdFL_M3VeYJ",
        "outputId": "2dc7b482-ace2-4de0-ab02-880f635a1fbd"
      },
      "outputs": [
        {
          "data": {
            "text/html": [
              "618.20999931582"
            ],
            "text/latex": "618.20999931582",
            "text/markdown": "618.20999931582",
            "text/plain": [
              "[1] 618.21"
            ]
          },
          "metadata": {},
          "output_type": "display_data"
        }
      ],
      "source": [
        "#с помощью производящей функции\n",
        "dx <- eval(D(mx,'z')) + eval(mx) - eval(mx)^2\n",
        "dx"
      ]
    },
    {
      "cell_type": "code",
      "execution_count": null,
      "metadata": {
        "colab": {
          "base_uri": "https://localhost:8080/",
          "height": 34
        },
        "id": "3iTLfcj8Vwrk",
        "outputId": "21f6853a-32bf-4c3f-f9c9-863ec4a40f01"
      },
      "outputs": [
        {
          "data": {
            "text/html": [
              "616.580592727144"
            ],
            "text/latex": "616.580592727144",
            "text/markdown": "616.580592727144",
            "text/plain": [
              "[1] 616.5806"
            ]
          },
          "metadata": {},
          "output_type": "display_data"
        }
      ],
      "source": [
        "#экспериментально\n",
        "sd(x)^2"
      ]
    },
    {
      "cell_type": "markdown",
      "metadata": {
        "id": "WzK2ym1mFe85"
      },
      "source": [
        "#### 3. Среднеквадратичное отклонение\n",
        "\n",
        "$ σ_{X_1+X_2+X_3} = \\sqrt{D[X_1+X_2+X_3]} $"
      ]
    },
    {
      "cell_type": "code",
      "execution_count": null,
      "metadata": {
        "colab": {
          "base_uri": "https://localhost:8080/",
          "height": 34
        },
        "id": "sbpCKeiXEEiS",
        "outputId": "41b10633-3ff2-4fdd-ea09-6661252c0330"
      },
      "outputs": [
        {
          "data": {
            "text/html": [
              "24.8638291362336"
            ],
            "text/latex": "24.8638291362336",
            "text/markdown": "24.8638291362336",
            "text/plain": [
              "[1] 24.86383"
            ]
          },
          "metadata": {},
          "output_type": "display_data"
        }
      ],
      "source": [
        "#по определению\n",
        "sko <- sqrt(d); sko"
      ]
    },
    {
      "cell_type": "code",
      "execution_count": null,
      "metadata": {
        "colab": {
          "base_uri": "https://localhost:8080/",
          "height": 34
        },
        "id": "-3xa85XPqFeR",
        "outputId": "43c5321e-e1a8-46ab-df75-6a8d91c1d22e"
      },
      "outputs": [
        {
          "data": {
            "text/html": [
              "24.8638291362336"
            ],
            "text/latex": "24.8638291362336",
            "text/markdown": "24.8638291362336",
            "text/plain": [
              "[1] 24.86383"
            ]
          },
          "metadata": {},
          "output_type": "display_data"
        }
      ],
      "source": [
        "#с помощью производящей функции\n",
        "sqrt(dx)"
      ]
    },
    {
      "cell_type": "code",
      "execution_count": null,
      "metadata": {
        "colab": {
          "base_uri": "https://localhost:8080/",
          "height": 34
        },
        "id": "p3RXnRSMV2Hy",
        "outputId": "69af76c0-e4a5-4656-94bd-3b3b04359152"
      },
      "outputs": [
        {
          "data": {
            "text/html": [
              "24.8310409110682"
            ],
            "text/latex": "24.8310409110682",
            "text/markdown": "24.8310409110682",
            "text/plain": [
              "[1] 24.83104"
            ]
          },
          "metadata": {},
          "output_type": "display_data"
        }
      ],
      "source": [
        "#экспериментально\n",
        "sd(x)"
      ]
    },
    {
      "cell_type": "markdown",
      "metadata": {
        "id": "f-EcKnOeFj5Y"
      },
      "source": [
        "#### 4. Коэффициент вариации\n",
        "\n",
        "  $ CV = \\frac{σ}{M[X_1+X_2+X_3]} $\n",
        "\n"
      ]
    },
    {
      "cell_type": "code",
      "execution_count": null,
      "metadata": {
        "colab": {
          "base_uri": "https://localhost:8080/",
          "height": 34
        },
        "id": "ZLO7oYh5I8o9",
        "outputId": "db835722-18a9-4efd-c72b-4d4bc0fa63e4"
      },
      "outputs": [
        {
          "data": {
            "text/html": [
              "0.28093394042738"
            ],
            "text/latex": "0.28093394042738",
            "text/markdown": "0.28093394042738",
            "text/plain": [
              "[1] 0.2809339"
            ]
          },
          "metadata": {},
          "output_type": "display_data"
        }
      ],
      "source": [
        "#по определению\n",
        "cv <- sko/m; cv"
      ]
    },
    {
      "cell_type": "code",
      "execution_count": null,
      "metadata": {
        "colab": {
          "base_uri": "https://localhost:8080/",
          "height": 34
        },
        "id": "VSXEYgBmqKqK",
        "outputId": "4b8814cd-120e-4e11-9a68-d5d35d99a46a"
      },
      "outputs": [
        {
          "data": {
            "text/html": [
              "0.28093394042738"
            ],
            "text/latex": "0.28093394042738",
            "text/markdown": "0.28093394042738",
            "text/plain": [
              "[1] 0.2809339"
            ]
          },
          "metadata": {},
          "output_type": "display_data"
        }
      ],
      "source": [
        "#с помощью производящей функции\n",
        "sqrt(dx)/eval(mx)"
      ]
    },
    {
      "cell_type": "code",
      "execution_count": null,
      "metadata": {
        "colab": {
          "base_uri": "https://localhost:8080/",
          "height": 34
        },
        "id": "RqLPzZDBV4UN",
        "outputId": "e516259f-79ab-49ea-a53f-4e5ae9b49d28"
      },
      "outputs": [
        {
          "data": {
            "text/html": [
              "0.280705645543729"
            ],
            "text/latex": "0.280705645543729",
            "text/markdown": "0.280705645543729",
            "text/plain": [
              "[1] 0.2807056"
            ]
          },
          "metadata": {},
          "output_type": "display_data"
        }
      ],
      "source": [
        "#экспериментально\n",
        "sd(x)/mean(x)"
      ]
    },
    {
      "cell_type": "markdown",
      "metadata": {
        "id": "_QrVtx6Ons6T"
      },
      "source": [
        "## Задание 2"
      ]
    },
    {
      "cell_type": "markdown",
      "metadata": {
        "id": "JpfYsV_sp_lX"
      },
      "source": [
        "Условие по варианту:"
      ]
    },
    {
      "cell_type": "code",
      "execution_count": null,
      "metadata": {
        "colab": {
          "base_uri": "https://localhost:8080/",
          "height": 34
        },
        "id": "p49ETBxtnwWC",
        "outputId": "9bd0b307-961e-44f3-d66c-78e1bcb40bd6"
      },
      "outputs": [
        {
          "output_type": "display_data",
          "data": {
            "text/html": [
              "<style>\n",
              ".list-inline {list-style: none; margin:0; padding: 0}\n",
              ".list-inline>li {display: inline-block}\n",
              ".list-inline>li:not(:last-child)::after {content: \"\\00b7\"; padding: 0 .5ex}\n",
              "</style>\n",
              "<ol class=list-inline><li>0.602114044129848</li><li>0.195043927291408</li><li>0.966458732029423</li></ol>\n"
            ],
            "text/markdown": "1. 0.602114044129848\n2. 0.195043927291408\n3. 0.966458732029423\n\n\n",
            "text/latex": "\\begin{enumerate*}\n\\item 0.602114044129848\n\\item 0.195043927291408\n\\item 0.966458732029423\n\\end{enumerate*}\n",
            "text/plain": [
              "[1] 0.6021140 0.1950439 0.9664587"
            ]
          },
          "metadata": {}
        }
      ],
      "source": [
        "Variant<-15\n",
        "set.seed(Variant)\n",
        "l <- runif(3); l"
      ]
    },
    {
      "cell_type": "markdown",
      "metadata": {
        "id": "OAcYvthL-JNG"
      },
      "source": [
        "Получение производящей функции:\n",
        "\n",
        "$P_{\\mu}(z)=\\sum_{n=0}^\\infty p_n z^n=\\sum_{n=0}^\\infty\\frac{(\\lambda \\tau)^n}{n!}e^{-\\lambda \\tau}z^n=e^{-\\lambda \\tau}\\cdot e^{\\lambda \\tau z}=e^{-\\lambda \\tau(1-z)}$\n",
        "\n",
        "$P_{X_1+X_2+X_3}(z) = P_{X_1}(z) \\cdot P_{X_2}(z) \\cdot P_{X_3}(z) = e^{-\\lambda_1 \\tau (1-z)} \\cdot e^{-\\lambda_2 \\tau (1-z)} \\cdot e^{-\\lambda_3 \\tau (1-z)} = e^{-(\\lambda_1 + \\lambda_2 + \\lambda_3)\\tau(1-z)} $\n",
        "\n",
        "Пусть $\\tau = 1$:\n",
        "\n",
        "$P_{X_1+X_2+X_3}(z) = e^{-(\\lambda_1 + \\lambda_2 + \\lambda_3)(1-z)} $"
      ]
    },
    {
      "cell_type": "markdown",
      "metadata": {
        "id": "xLGX-satqCe9"
      },
      "source": [
        "Получение случайных величин:"
      ]
    },
    {
      "cell_type": "code",
      "execution_count": null,
      "metadata": {
        "id": "mvJMd_LXpFOJ"
      },
      "outputs": [],
      "source": [
        "n <- 1000000\n",
        "x1 <- rpois(n, l[1])\n",
        "x2 <- rpois(n, l[2])\n",
        "x3 <- rpois(n, l[3])\n",
        "x <- x1+x2+x3"
      ]
    },
    {
      "cell_type": "markdown",
      "metadata": {
        "id": "Bk3OnR05Cljt"
      },
      "source": [
        "Мат. ожидание по производящей функции:\n",
        "\n",
        "$M(X)=P'_{X}(z)|_{z=1} = (e^{-(\\lambda_1 + \\lambda_2 + \\lambda_3)\\tau(1-z)})'|_{z=1} =  (\\lambda_1 + \\lambda_2 + \\lambda_3)e^{-(\\lambda_1 + \\lambda_2 + \\lambda_3)(1-z)} = \\lambda_1 + \\lambda_2 + \\lambda_3$"
      ]
    },
    {
      "cell_type": "code",
      "source": [
        "sum(l)"
      ],
      "metadata": {
        "colab": {
          "base_uri": "https://localhost:8080/",
          "height": 34
        },
        "id": "vji2cBcWwI0O",
        "outputId": "d29a1362-74c4-42fc-f279-8822193e09ed"
      },
      "execution_count": null,
      "outputs": [
        {
          "output_type": "display_data",
          "data": {
            "text/html": [
              "1.76361670345068"
            ],
            "text/markdown": "1.76361670345068",
            "text/latex": "1.76361670345068",
            "text/plain": [
              "[1] 1.763617"
            ]
          },
          "metadata": {}
        }
      ]
    },
    {
      "cell_type": "code",
      "execution_count": null,
      "metadata": {
        "colab": {
          "base_uri": "https://localhost:8080/",
          "height": 34
        },
        "id": "h421NFO_o7rO",
        "outputId": "50c2f14a-9e7c-4fce-b2b5-67310c86ac1e"
      },
      "outputs": [
        {
          "output_type": "display_data",
          "data": {
            "text/html": [
              "1.763069"
            ],
            "text/markdown": "1.763069",
            "text/latex": "1.763069",
            "text/plain": [
              "[1] 1.763069"
            ]
          },
          "metadata": {}
        }
      ],
      "source": [
        "#экспериментально\n",
        "mean(x)"
      ]
    },
    {
      "cell_type": "markdown",
      "metadata": {
        "id": "IH_BdYmZDe3C"
      },
      "source": [
        "Пусть $\\lambda = \\lambda_1 + \\lambda_2 + \\lambda_3$\n",
        "\n",
        "$D(X)=P''_{X}(z)|_{z=1}+P'_{X}(z)|_{z=1}-\\left(P'_{X}(z)\\right)^2|_{z=1} = \\lambda^2 e^{-\\lambda(1-z)} + \\lambda - \\lambda^2 = \\lambda^2 + \\lambda - \\lambda^2 = \\lambda$"
      ]
    },
    {
      "cell_type": "code",
      "source": [
        "sum(l)"
      ],
      "metadata": {
        "colab": {
          "base_uri": "https://localhost:8080/",
          "height": 34
        },
        "id": "zmjFTlOMyB8T",
        "outputId": "50e64b12-c45a-4e97-87cd-4760bea284df"
      },
      "execution_count": null,
      "outputs": [
        {
          "output_type": "display_data",
          "data": {
            "text/html": [
              "1.76361670345068"
            ],
            "text/markdown": "1.76361670345068",
            "text/latex": "1.76361670345068",
            "text/plain": [
              "[1] 1.763617"
            ]
          },
          "metadata": {}
        }
      ]
    },
    {
      "cell_type": "code",
      "execution_count": null,
      "metadata": {
        "colab": {
          "base_uri": "https://localhost:8080/",
          "height": 34
        },
        "id": "OnR0Nl6krFTt",
        "outputId": "bdca7761-4209-4953-a7ba-5d191910b514"
      },
      "outputs": [
        {
          "output_type": "display_data",
          "data": {
            "text/html": [
              "1.75923646047546"
            ],
            "text/markdown": "1.75923646047546",
            "text/latex": "1.75923646047546",
            "text/plain": [
              "[1] 1.759236"
            ]
          },
          "metadata": {}
        }
      ],
      "source": [
        "#экспериментально\n",
        "sd(x)^2"
      ]
    },
    {
      "cell_type": "markdown",
      "metadata": {
        "id": "jk4ls4RgreSZ"
      },
      "source": [
        "#### 3. Среднеквадратичное отклонение\n",
        "\n",
        "$ σ_{X_1+X_2+X_3} = \\sqrt{D[X_1+X_2+X_3]} $"
      ]
    },
    {
      "cell_type": "code",
      "execution_count": null,
      "metadata": {
        "colab": {
          "base_uri": "https://localhost:8080/",
          "height": 34
        },
        "id": "iUTvPKsKCbL9",
        "outputId": "719a3686-00ca-4946-8094-d7aa88139e1d"
      },
      "outputs": [
        {
          "output_type": "display_data",
          "data": {
            "text/html": [
              "1.32801231298911"
            ],
            "text/markdown": "1.32801231298911",
            "text/latex": "1.32801231298911",
            "text/plain": [
              "[1] 1.328012"
            ]
          },
          "metadata": {}
        }
      ],
      "source": [
        "#с помощью производящей функции\n",
        "sqrt(sum(l))"
      ]
    },
    {
      "cell_type": "code",
      "execution_count": null,
      "metadata": {
        "colab": {
          "base_uri": "https://localhost:8080/",
          "height": 34
        },
        "id": "DFC8AFrUrlPy",
        "outputId": "ca72cc97-de7a-433b-f1ae-d429a35125e8"
      },
      "outputs": [
        {
          "output_type": "display_data",
          "data": {
            "text/html": [
              "1.32636211513879"
            ],
            "text/markdown": "1.32636211513879",
            "text/latex": "1.32636211513879",
            "text/plain": [
              "[1] 1.326362"
            ]
          },
          "metadata": {}
        }
      ],
      "source": [
        "#экспериментально\n",
        "sd(x)"
      ]
    },
    {
      "cell_type": "markdown",
      "metadata": {
        "id": "08ZhU0Dcrt0k"
      },
      "source": [
        "#### 4. Коэффициент вариации\n",
        "\n",
        "  $ CV = \\frac{σ}{M[X_1+X_2+X_3]} $\n",
        "\n"
      ]
    },
    {
      "cell_type": "code",
      "execution_count": null,
      "metadata": {
        "colab": {
          "base_uri": "https://localhost:8080/",
          "height": 34
        },
        "id": "ZX4M1RQvCfO7",
        "outputId": "c4d243ee-89ad-4391-e68b-af43c0b9c835"
      },
      "outputs": [
        {
          "output_type": "display_data",
          "data": {
            "text/html": [
              "0.753005066458448"
            ],
            "text/markdown": "0.753005066458448",
            "text/latex": "0.753005066458448",
            "text/plain": [
              "[1] 0.7530051"
            ]
          },
          "metadata": {}
        }
      ],
      "source": [
        "#с помощью производящей функции\n",
        "sqrt(sum(l))/sum(l)"
      ]
    },
    {
      "cell_type": "code",
      "execution_count": null,
      "metadata": {
        "colab": {
          "base_uri": "https://localhost:8080/",
          "height": 34
        },
        "id": "g_6iMZ2cr6Os",
        "outputId": "1eb33bd7-5840-4e14-ec2b-2c3b2931f32f"
      },
      "outputs": [
        {
          "output_type": "display_data",
          "data": {
            "text/html": [
              "0.75230300977375"
            ],
            "text/markdown": "0.75230300977375",
            "text/latex": "0.75230300977375",
            "text/plain": [
              "[1] 0.752303"
            ]
          },
          "metadata": {}
        }
      ],
      "source": [
        "#экспериментально\n",
        "sd(x)/mean(x)"
      ]
    },
    {
      "cell_type": "markdown",
      "metadata": {
        "id": "Qu-0F2e2sP5L"
      },
      "source": [
        "## Задание 3"
      ]
    },
    {
      "cell_type": "markdown",
      "metadata": {
        "id": "zzb6PUd_sSby"
      },
      "source": [
        "Условие по варианту:"
      ]
    },
    {
      "cell_type": "code",
      "execution_count": null,
      "metadata": {
        "colab": {
          "base_uri": "https://localhost:8080/",
          "height": 34
        },
        "id": "vZMAeI2jsUo6",
        "outputId": "b74aeabe-416d-4ea0-ff98-ae2251564fbc"
      },
      "outputs": [
        {
          "output_type": "display_data",
          "data": {
            "text/html": [
              "0.815193412825465"
            ],
            "text/markdown": "0.815193412825465",
            "text/latex": "0.815193412825465",
            "text/plain": [
              "[1] 0.8151934"
            ]
          },
          "metadata": {}
        }
      ],
      "source": [
        "Variant<-15\n",
        "set.seed(Variant)\n",
        "t<-runif(7)[7];t\n",
        "l <- 1/t"
      ]
    },
    {
      "cell_type": "markdown",
      "metadata": {
        "id": "uxOd0sNkdyVL"
      },
      "source": [
        "Пусть $k=5$:"
      ]
    },
    {
      "cell_type": "code",
      "execution_count": null,
      "metadata": {
        "id": "-To6kkASd1Bg"
      },
      "outputs": [],
      "source": [
        "K <- 5"
      ]
    },
    {
      "cell_type": "markdown",
      "metadata": {
        "id": "flU2jMrNUw-Y"
      },
      "source": [
        "Преобразование Лапласа-Стилтьеса:"
      ]
    },
    {
      "cell_type": "markdown",
      "metadata": {
        "id": "AWnDAcc7KKQr"
      },
      "source": [
        "$f(t) = \\lambda e^{-\\lambda t}$\n",
        "\n",
        "$B(F(t))=\\beta(s)=\\int_0^\\infty e^{-st}dF(t) =\\int_0^\\infty e^{-st}f(t)dt = \\int_0^\\infty e^{-st} \\lambda e^{-\\lambda t}dt = \\int_0^\\infty \\lambda e^{-st-\\lambda t} dt = -\\lim_{z → ∞}\\frac{\\lambda}{s+\\lambda}e^{-st-\\lambda t}|_0^z =$\n",
        "\n",
        "$ = -\\lim_{z → ∞} (\\frac{\\lambda}{s+\\lambda}e^{-(s+\\lambda)z} - \\frac{\\lambda}{s+\\lambda}) = -\\frac{\\lambda}{s+\\lambda} (\\lim_{z → ∞}e^{-(s+\\lambda)z} - 1) = -\\frac{\\lambda}{s+\\lambda} (0 - 1) = \\frac{\\lambda}{s+\\lambda} $\n",
        "\n",
        "При $\\tau = \\sum_{i=1}^k \\tau_i$ и $\\lambda = \\lambda_i, i=1,2,...,k$:\n",
        "\n",
        "$\\beta_\\tau(s) = \\prod_{i=1}^k \\beta_{\\tau_i}(s) = (\\frac{\\lambda}{s+\\lambda})^k $"
      ]
    },
    {
      "cell_type": "markdown",
      "metadata": {
        "id": "ZWwgo-5LUk2L"
      },
      "source": [
        "Мат. ожидание:\n",
        "\n",
        "$M(\\tau)=-\\beta_{\\tau}'(0) = \\frac{k (\\frac{\\lambda}{\\lambda+s})^k}{\\lambda + s} = \\frac{k}{\\lambda}$"
      ]
    },
    {
      "cell_type": "code",
      "source": [
        "K/l"
      ],
      "metadata": {
        "colab": {
          "base_uri": "https://localhost:8080/",
          "height": 34
        },
        "id": "_3gdvE97mRW0",
        "outputId": "708940c3-6b5e-4f37-b3b5-de3754da05a3"
      },
      "execution_count": null,
      "outputs": [
        {
          "output_type": "display_data",
          "data": {
            "text/html": [
              "4.07596706412733"
            ],
            "text/markdown": "4.07596706412733",
            "text/latex": "4.07596706412733",
            "text/plain": [
              "[1] 4.075967"
            ]
          },
          "metadata": {}
        }
      ]
    },
    {
      "cell_type": "markdown",
      "metadata": {
        "id": "l_2eDVs-d4r7"
      },
      "source": [
        "Дисперсия:\n",
        "\n",
        "$D(\\tau)=\\beta''(0)-\\left(\\beta'(0)\\right)^2 = \\frac{k(k+1)(\\frac{\\lambda}{\\lambda+s})^k}{(\\lambda+s)^2} - (\\frac{k}{\\lambda})^2 = \\frac{k(k+1) - k^2}{\\lambda^2} = \\frac{k}{\\lambda^2}$"
      ]
    },
    {
      "cell_type": "code",
      "source": [
        "K/l^2"
      ],
      "metadata": {
        "colab": {
          "base_uri": "https://localhost:8080/",
          "height": 34
        },
        "id": "anoQRYcCrkNt",
        "outputId": "bb67403e-fbc4-4de8-8a03-298cda9f3fc2"
      },
      "execution_count": null,
      "outputs": [
        {
          "output_type": "display_data",
          "data": {
            "text/html": [
              "3.32270150157015"
            ],
            "text/markdown": "3.32270150157015",
            "text/latex": "3.32270150157015",
            "text/plain": [
              "[1] 3.322702"
            ]
          },
          "metadata": {}
        }
      ]
    },
    {
      "cell_type": "markdown",
      "metadata": {
        "id": "6__-joxMen9o"
      },
      "source": [
        "Проведем моделирование:"
      ]
    },
    {
      "cell_type": "code",
      "execution_count": null,
      "metadata": {
        "id": "5-MAgeOues0O"
      },
      "outputs": [],
      "source": [
        "tau <- c()\n",
        "N <- 10000000\n",
        "for (i in 1:N)\n",
        "{\n",
        "  tau[i] <- sum(rexp(K,l))\n",
        "}"
      ]
    },
    {
      "cell_type": "code",
      "execution_count": null,
      "metadata": {
        "colab": {
          "base_uri": "https://localhost:8080/",
          "height": 34
        },
        "id": "LvxFC-thgymr",
        "outputId": "ee2701e2-8582-4e7a-b035-bfe35e53cfba"
      },
      "outputs": [
        {
          "output_type": "display_data",
          "data": {
            "text/html": [
              "4.07594075554781"
            ],
            "text/markdown": "4.07594075554781",
            "text/latex": "4.07594075554781",
            "text/plain": [
              "[1] 4.075941"
            ]
          },
          "metadata": {}
        }
      ],
      "source": [
        "mean(tau)"
      ]
    },
    {
      "cell_type": "code",
      "execution_count": null,
      "metadata": {
        "colab": {
          "base_uri": "https://localhost:8080/",
          "height": 34
        },
        "id": "tWwt-WFJg5Je",
        "outputId": "e7e7aa1f-afe0-4f98-e46e-b2acc2788ec1"
      },
      "outputs": [
        {
          "output_type": "display_data",
          "data": {
            "text/html": [
              "3.31886377039544"
            ],
            "text/markdown": "3.31886377039544",
            "text/latex": "3.31886377039544",
            "text/plain": [
              "[1] 3.318864"
            ]
          },
          "metadata": {}
        }
      ],
      "source": [
        "sd(tau)^2"
      ]
    },
    {
      "cell_type": "markdown",
      "metadata": {
        "id": "QOpLuU4VtssK"
      },
      "source": [
        "## Задание 4"
      ]
    },
    {
      "cell_type": "markdown",
      "metadata": {
        "id": "axQk9D1PvYtq"
      },
      "source": [
        "$P_{\\zeta} = \\sum_{n=0}^{\\infty} \\frac{\\alpha^n}{n!}e^{-\\alpha} \\cdot z^n = e^{-\\alpha} \\cdot e^{\\alpha z} =  e^{-\\alpha (1-z)}$\n",
        "\n",
        "Найдем $P_{\\zeta}, \\zeta = \\sum_{i=1}^N \\zeta_i, \\alpha =\\sum_{i=1}^N \\alpha_i  $:\n",
        "\n",
        "$P_\\zeta = e^{-\\alpha_1(1-z)} \\cdot e^{-\\alpha_2(1-z)} \\cdot ... \\cdot e^{-\\alpha_N(1-z)} = e^{-(\\alpha_1 + \\alpha_2 + ... + \\alpha_N)(1-z)} = e^{-\\alpha (1-z)} $\n",
        "\n",
        "Таким образом, сумма случайных величин, распределенных по закону Пуассона с параметрами $\\alpha_1, \\alpha_2, ...$, распределена по закону Пуассона с $\\alpha = \\sum_{i=1}^N \\alpha_i$"
      ]
    },
    {
      "cell_type": "code",
      "execution_count": null,
      "metadata": {
        "colab": {
          "base_uri": "https://localhost:8080/"
        },
        "id": "poWjsuJqvX31",
        "outputId": "0474ae6b-20c0-4619-b9f8-6e1a8b93fbbe"
      },
      "outputs": [
        {
          "output_type": "stream",
          "name": "stdout",
          "text": [
            "         M[X]     D[X]\n",
            "k=2  1.155714 1.155823\n",
            "k=3  1.370991 1.371471\n",
            "k=4  1.390980 1.391100\n",
            "k=5  2.161846 2.160773\n",
            "k=6  2.202687 2.201787\n",
            "k=7  3.170363 3.172362\n",
            "k=8  3.571105 3.567665\n",
            "k=9  4.547457 4.549984\n",
            "k=10 5.342456 5.344414\n"
          ]
        }
      ],
      "source": [
        "df <- data.frame(matrix(ncol = 2, nrow = 0))\n",
        "cols <- c(\"M[X]\", \"D[X]\")\n",
        "colnames(df) <- cols\n",
        "xs <- c()\n",
        "N <- 10000000\n",
        "k <- 10\n",
        "a <- runif(k)\n",
        "for (i in 2:k)\n",
        "{\n",
        "  for (j in 1:N)\n",
        "    xs[j] <- sum(rpois(i, a[1:i]))\n",
        "  rn <- capture.output(cat(paste0('k=',i)))\n",
        "  df[rn,] <- c(mean(xs), sd(xs)^2)\n",
        "}\n",
        "print(df)"
      ]
    },
    {
      "cell_type": "markdown",
      "source": [
        "## Задание 5"
      ],
      "metadata": {
        "id": "xPw05YoHg6NL"
      }
    },
    {
      "cell_type": "code",
      "source": [
        "Variant<-15\n",
        "set.seed(Variant)\n",
        "l<-runif(100)[77]\n",
        "l"
      ],
      "metadata": {
        "id": "nppmMML_00Kn",
        "colab": {
          "base_uri": "https://localhost:8080/",
          "height": 34
        },
        "outputId": "a7e5e0eb-7cdd-4368-e199-28e77b7a3a6f"
      },
      "execution_count": null,
      "outputs": [
        {
          "output_type": "display_data",
          "data": {
            "text/html": [
              "0.261021539568901"
            ],
            "text/markdown": "0.261021539568901",
            "text/latex": "0.261021539568901",
            "text/plain": [
              "[1] 0.2610215"
            ]
          },
          "metadata": {}
        }
      ]
    },
    {
      "cell_type": "markdown",
      "source": [
        "Получение случайных величин:"
      ],
      "metadata": {
        "id": "AfGff2X64A0n"
      }
    },
    {
      "cell_type": "code",
      "source": [
        "N <- 100000000\n",
        "t1 <- rexp(N, l)\n",
        "t2 <- rexp(N, l)"
      ],
      "metadata": {
        "id": "niXv-fx83_Td"
      },
      "execution_count": null,
      "outputs": []
    },
    {
      "cell_type": "markdown",
      "source": [
        "$t = t_1 + t_2, 0 \\le t_1 \\le \\infty, 0 \\le t_2 \\le \\infty$\n",
        "\n",
        "Найдем плотность вероятности:\n",
        "\n",
        "$f_{t}=\\int_{A(t)}^{B(t)} f_{t_1}(t_1)\\cdot f_{t_2}(t-t_1)dt_1$\n",
        "\n",
        "$a=c=0, b=d=\\infty$\n",
        "\n",
        "$A(t)=a+\\frac{t-(a+d)+|t-(a+d)|}{2} = 0 + \\frac{t-\\infty + |t - \\infty|}{2} = \\frac {-\\infty + \\infty}{2} = 0$\n",
        "\n",
        "$B(t)=b+\\frac{t-(b+c)-|t-(b+c)|}{2} = \\infty + \\frac{t-\\infty-|t-\\infty|}{2} = \\infty + \\frac {t - \\infty + t - \\infty}{2} = \\infty + \\frac{2t - 2\\infty}{2} = \\infty + t - \\infty = t $\n",
        "\n",
        "$f_{t}=\\int_0^t f_{t_1}(t_1)\\cdot f_{t_2}(t-t_1)dt_1 = \\int_0^t \\lambda e^{-\\lambda t_1} \\cdot \\lambda e ^{-\\lambda (t-t_1)} dt_1 = \\int_0^t \\lambda^2 e^{-\\lambda (t_1 + t - t_1)} = \\int_0^t\\lambda^2 e^{-\\lambda t} dt_1 = \\lambda ^ 2 e^{-\\lambda t} t_1 |_0^t = $\n",
        "\n",
        "$= \\lambda^2 \\cdot (e^{-\\lambda t}t - e^{-\\lambda t}\\cdot 0) = \\lambda^2 e^{-\\lambda t}t $"
      ],
      "metadata": {
        "id": "btrTVNxGjXsM"
      }
    },
    {
      "cell_type": "markdown",
      "source": [
        "Преобразование Лапласа-Стилтьеса:"
      ],
      "metadata": {
        "id": "pXtMdjNpx_82"
      }
    },
    {
      "cell_type": "markdown",
      "source": [
        "$\\beta_t(s)=\\int_0^\\infty e^{-st} f_t(t)dt = \\int_0^\\infty e^{-st} \\cdot \\lambda^2 e^{-\\lambda t} t dt = -\\lambda^2 \\lim_{z → \\infty} \\frac{(s+\\lambda)t+1}{(s + \\lambda)^2} e^{-(s+\\lambda)t} |_0^z = $\n",
        "\n",
        "$ = - \\lambda^2 \\lim_{z → \\infty} \\left( \\frac{(s+\\lambda)z+1}{(s + \\lambda)^2}e^{-(s + \\lambda) z} - \\frac{(s+\\lambda) \\cdot 0 + 1}{(s + \\lambda)^2}e^0 \\right) = - \\lambda^2 \\left( 0 -\\frac{1}{(s+\\lambda)^2} \\right) = \\frac{\\lambda^2}{(s + \\lambda)^2}$"
      ],
      "metadata": {
        "id": "eDFWY1XbqwyJ"
      }
    },
    {
      "cell_type": "markdown",
      "source": [
        "Вычисление мат. ожидания теоретически:"
      ],
      "metadata": {
        "id": "gnyCXgme33O6"
      }
    },
    {
      "cell_type": "markdown",
      "source": [
        "$M(t)=-\\beta_{t}'(0) = \\frac{2\\lambda^2}{(s + \\lambda)^3} = \\frac{2\\lambda^2}{\\lambda^3} = \\frac{2}{\\lambda}$"
      ],
      "metadata": {
        "id": "nEAErPE7zdpg"
      }
    },
    {
      "cell_type": "code",
      "source": [
        "2/l"
      ],
      "metadata": {
        "colab": {
          "base_uri": "https://localhost:8080/",
          "height": 34
        },
        "id": "roiaDE6j0TMY",
        "outputId": "80c554be-fac7-4a4c-9515-35a5431e86eb"
      },
      "execution_count": null,
      "outputs": [
        {
          "output_type": "display_data",
          "data": {
            "text/html": [
              "7.66220290977966"
            ],
            "text/markdown": "7.66220290977966",
            "text/latex": "7.66220290977966",
            "text/plain": [
              "[1] 7.662203"
            ]
          },
          "metadata": {}
        }
      ]
    },
    {
      "cell_type": "markdown",
      "source": [
        "Получение мат. ожидания экспериментально:"
      ],
      "metadata": {
        "id": "yHrF9X7s4Q7c"
      }
    },
    {
      "cell_type": "code",
      "source": [
        "mean(t1+t2)"
      ],
      "metadata": {
        "colab": {
          "base_uri": "https://localhost:8080/",
          "height": 34
        },
        "id": "z_IuV-3L1quF",
        "outputId": "e9ae1545-2d99-4afe-fbcf-06b58c357c97"
      },
      "execution_count": null,
      "outputs": [
        {
          "output_type": "display_data",
          "data": {
            "text/html": [
              "7.66159461660454"
            ],
            "text/markdown": "7.66159461660454",
            "text/latex": "7.66159461660454",
            "text/plain": [
              "[1] 7.661595"
            ]
          },
          "metadata": {}
        }
      ]
    },
    {
      "cell_type": "markdown",
      "source": [
        "$D(t)=\\beta_t''(0)-\\left(\\beta_t'(0)\\right)^2 = \\frac{6\\lambda^2}{(s + \\lambda)^4} - \\left(\\frac{2}{\\lambda}\\right)^2 = \\frac{6}{\\lambda^2} - \\frac{4}{\\lambda^2} = \\frac{2}{\\lambda^2} $"
      ],
      "metadata": {
        "id": "EhC5QHmN0r_f"
      }
    },
    {
      "cell_type": "code",
      "source": [
        "2/l^2"
      ],
      "metadata": {
        "colab": {
          "base_uri": "https://localhost:8080/",
          "height": 34
        },
        "id": "Iv8JON221uDx",
        "outputId": "8f8f3918-c036-48f9-a5aa-e1465621bc53"
      },
      "execution_count": null,
      "outputs": [
        {
          "output_type": "display_data",
          "data": {
            "text/html": [
              "29.3546767153179"
            ],
            "text/markdown": "29.3546767153179",
            "text/latex": "29.3546767153179",
            "text/plain": [
              "[1] 29.35468"
            ]
          },
          "metadata": {}
        }
      ]
    },
    {
      "cell_type": "markdown",
      "source": [
        "Получение дисперсии экспериментально:"
      ],
      "metadata": {
        "id": "tQlGFMbG4bcN"
      }
    },
    {
      "cell_type": "code",
      "source": [
        "sd(t1+t2)^2"
      ],
      "metadata": {
        "colab": {
          "base_uri": "https://localhost:8080/",
          "height": 34
        },
        "id": "g45MyQIf2Zfx",
        "outputId": "2217a4b4-e8ce-4381-c36b-8abe52dcc9f5"
      },
      "execution_count": null,
      "outputs": [
        {
          "output_type": "display_data",
          "data": {
            "text/html": [
              "29.3511581754475"
            ],
            "text/markdown": "29.3511581754475",
            "text/latex": "29.3511581754475",
            "text/plain": [
              "[1] 29.35116"
            ]
          },
          "metadata": {}
        }
      ]
    }
  ],
  "metadata": {
    "colab": {
      "provenance": [],
      "collapsed_sections": [
        "iaA0tmr72VLf",
        "_QrVtx6Ons6T"
      ]
    },
    "kernelspec": {
      "display_name": "R",
      "name": "ir"
    },
    "language_info": {
      "name": "R"
    }
  },
  "nbformat": 4,
  "nbformat_minor": 0
}