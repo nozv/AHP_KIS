{
  "cells": [
    {
      "cell_type": "markdown",
      "source": [
        "Ноздрова В.\n",
        "ИУ5-81Б\n"
      ],
      "metadata": {
        "id": "s8dqHvf3J4Ul"
      }
    },
    {
      "cell_type": "markdown",
      "source": [
        "#Задача 1"
      ],
      "metadata": {
        "id": "V-VIzs5bJ37P"
      }
    },
    {
      "cell_type": "code",
      "execution_count": null,
      "metadata": {
        "colab": {
          "base_uri": "https://localhost:8080/",
          "height": 164
        },
        "id": "B1I3-lIR_sg6",
        "outputId": "d16438ca-f8af-4799-88fc-42d5b69efee0"
      },
      "outputs": [
        {
          "output_type": "display_data",
          "data": {
            "text/plain": [
              "  m  q lambda   \n",
              "1 10 1 0.4705835"
            ],
            "text/html": [
              "<table class=\"dataframe\">\n",
              "<caption>A data.frame: 1 × 3</caption>\n",
              "<thead>\n",
              "\t<tr><th scope=col>m</th><th scope=col>q</th><th scope=col>lambda</th></tr>\n",
              "\t<tr><th scope=col>&lt;int&gt;</th><th scope=col>&lt;int&gt;</th><th scope=col>&lt;dbl&gt;</th></tr>\n",
              "</thead>\n",
              "<tbody>\n",
              "\t<tr><td>10</td><td>1</td><td>0.4705835</td></tr>\n",
              "</tbody>\n",
              "</table>\n"
            ],
            "text/markdown": "\nA data.frame: 1 × 3\n\n| m &lt;int&gt; | q &lt;int&gt; | lambda &lt;dbl&gt; |\n|---|---|---|\n| 10 | 1 | 0.4705835 |\n\n",
            "text/latex": "A data.frame: 1 × 3\n\\begin{tabular}{lll}\n m & q & lambda\\\\\n <int> & <int> & <dbl>\\\\\n\\hline\n\t 10 & 1 & 0.4705835\\\\\n\\end{tabular}\n"
          },
          "metadata": {}
        },
        {
          "output_type": "stream",
          "name": "stdout",
          "text": [
            " [1] 0.84811616 0.58679153 2.20952680 9.18050457 0.97433940 0.06060261\n",
            " [7] 1.37752378 1.03381451 0.32621141 2.02484933\n"
          ]
        }
      ],
      "source": [
        "Variant<-15\n",
        "set.seed(Variant)\n",
        "m<-sample(c(6:20),1)\n",
        "lambda<-runif(1,0.1, 2)\n",
        "Q<-rexp(m,0.3)\n",
        "q<-sample(c(1:4),1)\n",
        "View(data.frame(m,q, lambda))\n",
        "print(Q)"
      ]
    },
    {
      "cell_type": "markdown",
      "metadata": {
        "id": "jtdqIRtaEBCD"
      },
      "source": [
        "Среднее время обслуживания программ:\n",
        "\n",
        "$T_{сист} = \\frac{1}{\\mu-\\lambda}$"
      ]
    },
    {
      "cell_type": "code",
      "source": [
        "lambda/min(Q)"
      ],
      "metadata": {
        "colab": {
          "base_uri": "https://localhost:8080/",
          "height": 34
        },
        "id": "-7ictJ7uWWJm",
        "outputId": "b539714f-dffb-4d9d-a74b-a7b30f4dde3f"
      },
      "execution_count": null,
      "outputs": [
        {
          "output_type": "display_data",
          "data": {
            "text/html": [
              "7.76506866798981"
            ],
            "text/markdown": "7.76506866798981",
            "text/latex": "7.76506866798981",
            "text/plain": [
              "[1] 7.765069"
            ]
          },
          "metadata": {}
        }
      ]
    },
    {
      "cell_type": "markdown",
      "metadata": {
        "id": "UH61dQDNRfnU"
      },
      "source": [
        "По варианту $\\frac{\\lambda}{min(Q)} > 1$, поэтому значение $\\lambda$ необходимо изменить"
      ]
    },
    {
      "cell_type": "code",
      "execution_count": null,
      "metadata": {
        "colab": {
          "base_uri": "https://localhost:8080/",
          "height": 34
        },
        "id": "Wj3_g39CQNEd",
        "outputId": "fe55bc8b-f581-49b1-a2fa-7af39214d133"
      },
      "outputs": [
        {
          "output_type": "display_data",
          "data": {
            "text/html": [
              "0.0106026143456499"
            ],
            "text/markdown": "0.0106026143456499",
            "text/latex": "0.0106026143456499",
            "text/plain": [
              "[1] 0.01060261"
            ]
          },
          "metadata": {}
        }
      ],
      "source": [
        "set.seed(Variant)\n",
        "lambda <- min(Q) - 0.05; lambda"
      ]
    },
    {
      "cell_type": "markdown",
      "source": [
        "$T_{\\text{сист}}=\\frac{1}{\\mu\\left(1-\\frac{\\lambda}{\\mu}\\right)}$"
      ],
      "metadata": {
        "id": "VB24oPS_am1x"
      }
    },
    {
      "cell_type": "code",
      "source": [
        "mu <- 1/(sum(Q)/length(Q))\n",
        "Tt_sist <- 1/(mu*(1-(lambda/mu)))\n",
        "Tt_sist"
      ],
      "metadata": {
        "colab": {
          "base_uri": "https://localhost:8080/",
          "height": 34
        },
        "id": "RmWYASAcadKB",
        "outputId": "0a39a8af-6b14-47d7-dab0-de4ebce9e9ca"
      },
      "execution_count": null,
      "outputs": [
        {
          "output_type": "display_data",
          "data": {
            "text/html": [
              "1.89973734699899"
            ],
            "text/markdown": "1.89973734699899",
            "text/latex": "1.89973734699899",
            "text/plain": [
              "[1] 1.899737"
            ]
          },
          "metadata": {}
        }
      ]
    },
    {
      "cell_type": "markdown",
      "metadata": {
        "id": "6fPw6jN5R61r"
      },
      "source": [
        "Экспериментально:"
      ]
    },
    {
      "cell_type": "code",
      "execution_count": null,
      "metadata": {
        "colab": {
          "base_uri": "https://localhost:8080/"
        },
        "id": "xSsEueOyMqWH",
        "outputId": "f1ca1eef-8ef5-4a67-a9a4-dd466af7f965"
      },
      "outputs": [
        {
          "output_type": "stream",
          "name": "stderr",
          "text": [
            "Installing package into ‘/usr/local/lib/R/site-library’\n",
            "(as ‘lib’ is unspecified)\n",
            "\n"
          ]
        }
      ],
      "source": [
        "install.packages(\"simmer\")\n",
        "library(\"simmer\")"
      ]
    },
    {
      "cell_type": "code",
      "execution_count": null,
      "metadata": {
        "id": "gGFFw3q0MLTw"
      },
      "outputs": [],
      "source": [
        "SIM_TIME = 5000000\n",
        "\n",
        "program <- trajectory(\"program's path\") %>%\n",
        "   seize(\"server\") %>%\n",
        "   timeout(function() sample(Q,1)) %>%\n",
        "   release(\"server\")\n",
        "\n",
        "distr <- function() rexp(1, lambda)\n",
        "syst <- simmer(\"syst\") %>%\n",
        "   add_resource(\"server\", mon=T) %>%\n",
        "   add_generator(\"prog\", program, from(distr, distr), mon=2)\n",
        "\n",
        "syst %>% run(until = SIM_TIME) %>% invisible\n",
        "\n",
        "stats <- get_mon_arrivals(syst, per_resource = T)\n",
        "Te_sist <- mean(stats$end_time - stats$start_time)"
      ]
    },
    {
      "cell_type": "markdown",
      "metadata": {
        "id": "fv-HDSCKR94w"
      },
      "source": [
        "Результат:"
      ]
    },
    {
      "cell_type": "code",
      "execution_count": null,
      "metadata": {
        "colab": {
          "base_uri": "https://localhost:8080/",
          "height": 129
        },
        "id": "_KWtLw2RR_C3",
        "outputId": "f4ed18a8-e9e7-42ef-d746-ceabdc876ad3"
      },
      "outputs": [
        {
          "output_type": "display_data",
          "data": {
            "text/html": [
              "<table class=\"dataframe\">\n",
              "<caption>A data.frame: 1 × 3</caption>\n",
              "<thead>\n",
              "\t<tr><th scope=col>param</th><th scope=col>teor</th><th scope=col>exper</th></tr>\n",
              "\t<tr><th scope=col>&lt;chr&gt;</th><th scope=col>&lt;dbl&gt;</th><th scope=col>&lt;dbl&gt;</th></tr>\n",
              "</thead>\n",
              "<tbody>\n",
              "\t<tr><td>T_sist</td><td>1.899737</td><td>1.906877</td></tr>\n",
              "</tbody>\n",
              "</table>\n"
            ],
            "text/markdown": "\nA data.frame: 1 × 3\n\n| param &lt;chr&gt; | teor &lt;dbl&gt; | exper &lt;dbl&gt; |\n|---|---|---|\n| T_sist | 1.899737 | 1.906877 |\n\n",
            "text/latex": "A data.frame: 1 × 3\n\\begin{tabular}{lll}\n param & teor & exper\\\\\n <chr> & <dbl> & <dbl>\\\\\n\\hline\n\t T\\_sist & 1.899737 & 1.906877\\\\\n\\end{tabular}\n",
            "text/plain": [
              "  param  teor     exper   \n",
              "1 T_sist 1.899737 1.906877"
            ]
          },
          "metadata": {}
        }
      ],
      "source": [
        "param <- \"T_sist\"\n",
        "teor <- Tt_sist\n",
        "exper <- Te_sist\n",
        "data.frame(param,teor,exper)"
      ]
    },
    {
      "cell_type": "markdown",
      "metadata": {
        "id": "r-NXaQfYSt9o"
      },
      "source": [
        "SPT:"
      ]
    },
    {
      "cell_type": "code",
      "execution_count": null,
      "metadata": {
        "id": "y4LnH1LK1iQx"
      },
      "outputs": [],
      "source": [
        "Qs <- sort(Q)"
      ]
    },
    {
      "cell_type": "code",
      "execution_count": null,
      "metadata": {
        "colab": {
          "base_uri": "https://localhost:8080/",
          "height": 34
        },
        "id": "v3WzADtNSsHW",
        "outputId": "6fdc84fa-138d-4aef-9847-d303789204ec"
      },
      "outputs": [
        {
          "output_type": "display_data",
          "data": {
            "text/html": [
              "1.8214394848493"
            ],
            "text/markdown": "1.8214394848493",
            "text/latex": "1.8214394848493",
            "text/plain": [
              "[1] 1.821439"
            ]
          },
          "metadata": {}
        }
      ],
      "source": [
        "SIM_TIME = 5000000\n",
        "\n",
        "distr <- function() rexp(1, lambda)\n",
        "\n",
        "init <- trajectory(\"init\")%>%\n",
        "        timeout(distr) %>%\n",
        "        activate(function() {x<-get_sources(spt); x[sample(2:length(get_sources(spt)),1)]}) %>%\n",
        "        rollback(3, Inf)\n",
        "\n",
        "spt_prog <- trajectory(\"program's path\") %>%\n",
        "   seize(\"server\") %>%\n",
        "   timeout_from_attribute(\"timeout\") %>%\n",
        "   release(\"server\")\n",
        "\n",
        "spt <- simmer(\"spt\") %>%\n",
        "   add_resource(\"server\", mon=T, preemptive = T, preempt_order = \"fifo\", queue_priority = 1) %>%\n",
        "   add_generator(\"init\", init, at(0))%>%invisible\n",
        "   for(i in 1:m) spt %>%\n",
        "     add_generator(paste(\"pr\",i), join(trajectory()%>%\n",
        "                                       set_attribute(\"timeout\",Qs[i]),\n",
        "                                       spt_prog), when_activated(1), mon=2, priority=i) %>% invisible\n",
        "\n",
        "spt %>% run(until = SIM_TIME) %>% invisible\n",
        "\n",
        "spt_stats <- get_mon_arrivals(spt, per_resource = T)\n",
        "spt_sist <- mean(spt_stats$end_time - spt_stats$start_time);spt_sist"
      ]
    },
    {
      "cell_type": "markdown",
      "metadata": {
        "id": "YEQmnpi4v7Lu"
      },
      "source": [
        "Round Robin:"
      ]
    },
    {
      "cell_type": "code",
      "execution_count": null,
      "metadata": {
        "id": "7blKaiIpv51n"
      },
      "outputs": [],
      "source": [
        "RoundRobin <- function(q)\n",
        "\n",
        "{\n",
        "ST <- 100000\n",
        "\n",
        "distr <- function() rexp(1, lambda)\n",
        "\n",
        "init1 <- trajectory(\"init\")%>%\n",
        "        timeout(distr) %>%\n",
        "        activate(function() {x<-get_sources(rr); x[sample(2:length(get_sources(rr)),1)]}) %>%\n",
        "        rollback(3, Inf)\n",
        "\n",
        "rr_prog <- trajectory(\"program's path\") %>%\n",
        "   set_attribute(\"time\",function() sample(Qs,1))%>%\n",
        "   seize(\"server\") %>%\n",
        "   timeout(q)%>%\n",
        "   release(\"server\")%>%\n",
        "   set_attribute(\"time\",-q,\"+\")%>%\n",
        "   branch(function() ifelse(get_attribute(rr,\"time\")>0,1,0),T,\n",
        "          trajectory()%>%rollback(5,Inf))\n",
        "\n",
        "rr <- simmer(\"rr\") %>%\n",
        "   add_resource(\"server\", mon=T, preemptive = T, preempt_order = \"fifo\", queue_priority = 1) %>%\n",
        "   add_generator(\"init\", init1, at(0))%>%invisible\n",
        "   for(i in 1:m) rr %>%\n",
        "     add_generator(paste(\"pr\",i,\" \"), rr_prog, when_activated(1), mon=2) %>% invisible\n",
        "\n",
        "rr %>% run(until = ST) %>% invisible\n",
        "\n",
        "rr_stats <- get_mon_arrivals(rr, per_resource = T)\n",
        "view <- data.frame(rr_stats$name,rr_stats$end_time-rr_stats$start_time)\n",
        "view <-  aggregate(. ~ rr_stats.name, view, sum, na.rm = TRUE)\n",
        "return(mean(view$rr_stats.end_time...rr_stats.start_time))}"
      ]
    },
    {
      "cell_type": "code",
      "source": [
        "rq <-RoundRobin(q)"
      ],
      "metadata": {
        "id": "JtAacMuEGPPj"
      },
      "execution_count": null,
      "outputs": []
    },
    {
      "cell_type": "markdown",
      "source": [
        "Результаты:"
      ],
      "metadata": {
        "id": "gL5nmOqBJjgA"
      }
    },
    {
      "cell_type": "code",
      "source": [
        "df <- data.frame(\"T_sist\", Te_sist, spt_sist, rq)\n",
        "colnames(df) <-c(\"param\", \"exper\", \"spt\", \"rr(q=1)\")\n",
        "df"
      ],
      "metadata": {
        "colab": {
          "base_uri": "https://localhost:8080/",
          "height": 129
        },
        "id": "jiM3Y9BpGxQT",
        "outputId": "9cf6231a-9766-44df-a50f-e80e861fe4ee"
      },
      "execution_count": null,
      "outputs": [
        {
          "output_type": "display_data",
          "data": {
            "text/html": [
              "<table class=\"dataframe\">\n",
              "<caption>A data.frame: 1 × 4</caption>\n",
              "<thead>\n",
              "\t<tr><th scope=col>param</th><th scope=col>exper</th><th scope=col>spt</th><th scope=col>rr(q=1)</th></tr>\n",
              "\t<tr><th scope=col>&lt;chr&gt;</th><th scope=col>&lt;dbl&gt;</th><th scope=col>&lt;dbl&gt;</th><th scope=col>&lt;dbl&gt;</th></tr>\n",
              "</thead>\n",
              "<tbody>\n",
              "\t<tr><td>T_sist</td><td>1.906877</td><td>1.821439</td><td>2.429563</td></tr>\n",
              "</tbody>\n",
              "</table>\n"
            ],
            "text/markdown": "\nA data.frame: 1 × 4\n\n| param &lt;chr&gt; | exper &lt;dbl&gt; | spt &lt;dbl&gt; | rr(q=1) &lt;dbl&gt; |\n|---|---|---|---|\n| T_sist | 1.906877 | 1.821439 | 2.429563 |\n\n",
            "text/latex": "A data.frame: 1 × 4\n\\begin{tabular}{llll}\n param & exper & spt & rr(q=1)\\\\\n <chr> & <dbl> & <dbl> & <dbl>\\\\\n\\hline\n\t T\\_sist & 1.906877 & 1.821439 & 2.429563\\\\\n\\end{tabular}\n",
            "text/plain": [
              "  param  exper    spt      rr(q=1) \n",
              "1 T_sist 1.906877 1.821439 2.429563"
            ]
          },
          "metadata": {}
        }
      ]
    },
    {
      "cell_type": "markdown",
      "source": [
        "Сравнение при различных q:"
      ],
      "metadata": {
        "id": "wsLL2fNWPlRn"
      }
    },
    {
      "cell_type": "code",
      "source": [
        "min(Q)"
      ],
      "metadata": {
        "colab": {
          "base_uri": "https://localhost:8080/",
          "height": 34
        },
        "id": "ikGdOV8DQBEZ",
        "outputId": "3c814dcb-f4dc-4bf8-9ebd-dd284d39bd30"
      },
      "execution_count": null,
      "outputs": [
        {
          "output_type": "display_data",
          "data": {
            "text/html": [
              "0.0606026143456499"
            ],
            "text/markdown": "0.0606026143456499",
            "text/latex": "0.0606026143456499",
            "text/plain": [
              "[1] 0.06060261"
            ]
          },
          "metadata": {}
        }
      ]
    },
    {
      "cell_type": "code",
      "source": [
        "dfr <- data.frame(\"T_sist\", RoundRobin(0.04), RoundRobin(0.05), RoundRobin(min(Q)), RoundRobin(0.1), RoundRobin(0.2), RoundRobin(0.5),rq)\n",
        "colnames(dfr) <-c(\"param\", \"q=0.04\", \"q=0.05\", \"q=min(mu)\", \"q=0.1\", \"q=0.2\", \"q=0.5\", \"q=1\")\n",
        "dfr"
      ],
      "metadata": {
        "colab": {
          "base_uri": "https://localhost:8080/",
          "height": 129
        },
        "id": "XaqVRZSROopl",
        "outputId": "61867fff-f46e-4ada-f6f2-e925e2b6eb56"
      },
      "execution_count": null,
      "outputs": [
        {
          "output_type": "display_data",
          "data": {
            "text/html": [
              "<table class=\"dataframe\">\n",
              "<caption>A data.frame: 1 × 8</caption>\n",
              "<thead>\n",
              "\t<tr><th scope=col>param</th><th scope=col>q=0.04</th><th scope=col>q=0.05</th><th scope=col>q=min(mu)</th><th scope=col>q=0.1</th><th scope=col>q=0.2</th><th scope=col>q=0.5</th><th scope=col>q=1</th></tr>\n",
              "\t<tr><th scope=col>&lt;chr&gt;</th><th scope=col>&lt;dbl&gt;</th><th scope=col>&lt;dbl&gt;</th><th scope=col>&lt;dbl&gt;</th><th scope=col>&lt;dbl&gt;</th><th scope=col>&lt;dbl&gt;</th><th scope=col>&lt;dbl&gt;</th><th scope=col>&lt;dbl&gt;</th></tr>\n",
              "</thead>\n",
              "<tbody>\n",
              "\t<tr><td>T_sist</td><td>1.881127</td><td>1.924829</td><td>1.847771</td><td>1.968982</td><td>1.943333</td><td>2.110401</td><td>2.429563</td></tr>\n",
              "</tbody>\n",
              "</table>\n"
            ],
            "text/markdown": "\nA data.frame: 1 × 8\n\n| param &lt;chr&gt; | q=0.04 &lt;dbl&gt; | q=0.05 &lt;dbl&gt; | q=min(mu) &lt;dbl&gt; | q=0.1 &lt;dbl&gt; | q=0.2 &lt;dbl&gt; | q=0.5 &lt;dbl&gt; | q=1 &lt;dbl&gt; |\n|---|---|---|---|---|---|---|---|\n| T_sist | 1.881127 | 1.924829 | 1.847771 | 1.968982 | 1.943333 | 2.110401 | 2.429563 |\n\n",
            "text/latex": "A data.frame: 1 × 8\n\\begin{tabular}{llllllll}\n param & q=0.04 & q=0.05 & q=min(mu) & q=0.1 & q=0.2 & q=0.5 & q=1\\\\\n <chr> & <dbl> & <dbl> & <dbl> & <dbl> & <dbl> & <dbl> & <dbl>\\\\\n\\hline\n\t T\\_sist & 1.881127 & 1.924829 & 1.847771 & 1.968982 & 1.943333 & 2.110401 & 2.429563\\\\\n\\end{tabular}\n",
            "text/plain": [
              "  param  q=0.04   q=0.05   q=min(mu) q=0.1    q=0.2    q=0.5    q=1     \n",
              "1 T_sist 1.881127 1.924829 1.847771  1.968982 1.943333 2.110401 2.429563"
            ]
          },
          "metadata": {}
        }
      ]
    }
  ],
  "metadata": {
    "colab": {
      "provenance": []
    },
    "kernelspec": {
      "display_name": "R",
      "name": "ir"
    },
    "language_info": {
      "name": "R"
    }
  },
  "nbformat": 4,
  "nbformat_minor": 0
}