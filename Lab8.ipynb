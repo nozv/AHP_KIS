{
  "nbformat": 4,
  "nbformat_minor": 0,
  "metadata": {
    "colab": {
      "provenance": []
    },
    "kernelspec": {
      "name": "ir",
      "display_name": "R"
    },
    "language_info": {
      "name": "R"
    }
  },
  "cells": [
    {
      "cell_type": "markdown",
      "source": [
        "Ноздрова В.\n",
        "\n",
        "ИУ5-81Б"
      ],
      "metadata": {
        "id": "0oTHYX7oKZAj"
      }
    },
    {
      "cell_type": "markdown",
      "source": [
        "#Задача 1"
      ],
      "metadata": {
        "id": "ZAZm-i60Kb4I"
      }
    },
    {
      "cell_type": "code",
      "source": [
        "Variant<-15\n",
        "set.seed(Variant)\n",
        "P<-sample(c(4, 6),1)\n",
        "V<-sample(c(\"V1\", \"V2\", \"V3\", \"V4\"),1)\n",
        "if ((V==\"V3\") | (V==\"V4\")){\n",
        "  b<-sort(sample(c(1:10),P))\n",
        "}\n",
        "lambda<-runif(P)\n",
        "mu<-runif(P,2,4)\n",
        "View(data.frame(P,V))\n",
        "if ((V==\"V3\") | (V==\"V4\")) {View(data.frame(lambda,mu, b))}\n",
        "if ((V==\"V1\") | (V==\"V2\")) {View(data.frame(lambda,mu))}"
      ],
      "metadata": {
        "colab": {
          "base_uri": "https://localhost:8080/",
          "height": 353
        },
        "id": "bsbijw0jpSKY",
        "outputId": "2e6171dd-bea9-49f0-b666-c7bcba05d83b"
      },
      "execution_count": null,
      "outputs": [
        {
          "output_type": "display_data",
          "data": {
            "text/plain": [
              "  P V \n",
              "1 4 V3"
            ],
            "text/html": [
              "<table class=\"dataframe\">\n",
              "<caption>A data.frame: 1 × 2</caption>\n",
              "<thead>\n",
              "\t<tr><th scope=col>P</th><th scope=col>V</th></tr>\n",
              "\t<tr><th scope=col>&lt;dbl&gt;</th><th scope=col>&lt;chr&gt;</th></tr>\n",
              "</thead>\n",
              "<tbody>\n",
              "\t<tr><td>4</td><td>V3</td></tr>\n",
              "</tbody>\n",
              "</table>\n"
            ],
            "text/markdown": "\nA data.frame: 1 × 2\n\n| P &lt;dbl&gt; | V &lt;chr&gt; |\n|---|---|\n| 4 | V3 |\n\n",
            "text/latex": "A data.frame: 1 × 2\n\\begin{tabular}{ll}\n P & V\\\\\n <dbl> & <chr>\\\\\n\\hline\n\t 4 & V3\\\\\n\\end{tabular}\n"
          },
          "metadata": {}
        },
        {
          "output_type": "display_data",
          "data": {
            "text/plain": [
              "  lambda    mu       b \n",
              "1 0.8151934 2.209339  1\n",
              "2 0.2539684 3.292302  2\n",
              "3 0.6872308 3.018181  6\n",
              "4 0.8314290 3.413257 10"
            ],
            "text/html": [
              "<table class=\"dataframe\">\n",
              "<caption>A data.frame: 4 × 3</caption>\n",
              "<thead>\n",
              "\t<tr><th scope=col>lambda</th><th scope=col>mu</th><th scope=col>b</th></tr>\n",
              "\t<tr><th scope=col>&lt;dbl&gt;</th><th scope=col>&lt;dbl&gt;</th><th scope=col>&lt;int&gt;</th></tr>\n",
              "</thead>\n",
              "<tbody>\n",
              "\t<tr><td>0.8151934</td><td>2.209339</td><td> 1</td></tr>\n",
              "\t<tr><td>0.2539684</td><td>3.292302</td><td> 2</td></tr>\n",
              "\t<tr><td>0.6872308</td><td>3.018181</td><td> 6</td></tr>\n",
              "\t<tr><td>0.8314290</td><td>3.413257</td><td>10</td></tr>\n",
              "</tbody>\n",
              "</table>\n"
            ],
            "text/markdown": "\nA data.frame: 4 × 3\n\n| lambda &lt;dbl&gt; | mu &lt;dbl&gt; | b &lt;int&gt; |\n|---|---|---|\n| 0.8151934 | 2.209339 |  1 |\n| 0.2539684 | 3.292302 |  2 |\n| 0.6872308 | 3.018181 |  6 |\n| 0.8314290 | 3.413257 | 10 |\n\n",
            "text/latex": "A data.frame: 4 × 3\n\\begin{tabular}{lll}\n lambda & mu & b\\\\\n <dbl> & <dbl> & <int>\\\\\n\\hline\n\t 0.8151934 & 2.209339 &  1\\\\\n\t 0.2539684 & 3.292302 &  2\\\\\n\t 0.6872308 & 3.018181 &  6\\\\\n\t 0.8314290 & 3.413257 & 10\\\\\n\\end{tabular}\n"
          },
          "metadata": {}
        }
      ]
    },
    {
      "cell_type": "markdown",
      "source": [
        "По теореме Кобхэма:\n",
        "\n",
        "$\\lambda=\\sum_{p=1}^P\\lambda_p$\n",
        "\n",
        "$\\frac{1}{\\mu}=\\sum_{p=1}^P \\frac{\\lambda_p}{\\lambda}\\cdot \\frac{1}{\\mu_p}$\n",
        "\n",
        "$\\rho_p=\\frac{\\lambda_p}{\\mu_p} $\n",
        "\n",
        "$\\rho=\\frac{\\lambda}{\\mu}=\\sum_{p=1}^P \\rho_p$\n",
        "\n",
        "$W_0=\\sum_{p=1}^P\\frac{\\rho_p}{\\mu_p}$"
      ],
      "metadata": {
        "id": "25RPT0OGGsvP"
      }
    },
    {
      "cell_type": "code",
      "source": [
        "Lambda <- sum(lambda); Lambda\n",
        "Mu <- 1/sum(lambda/(Lambda*mu));Mu\n",
        "rho <- lambda/mu\n",
        "Rho <- sum(rho); Rho\n",
        "W0 <- sum(rho/mu); W0"
      ],
      "metadata": {
        "colab": {
          "base_uri": "https://localhost:8080/",
          "height": 86
        },
        "id": "_iUME59kMREw",
        "outputId": "978e9e14-32b9-4dd3-ec07-06214a836d5b"
      },
      "execution_count": null,
      "outputs": [
        {
          "output_type": "display_data",
          "data": {
            "text/html": [
              "2.58782164868899"
            ],
            "text/markdown": "2.58782164868899",
            "text/latex": "2.58782164868899",
            "text/plain": [
              "[1] 2.587822"
            ]
          },
          "metadata": {}
        },
        {
          "output_type": "display_data",
          "data": {
            "text/html": [
              "2.82081698982912"
            ],
            "text/markdown": "2.82081698982912",
            "text/latex": "2.82081698982912",
            "text/plain": [
              "[1] 2.820817"
            ]
          },
          "metadata": {}
        },
        {
          "output_type": "display_data",
          "data": {
            "text/html": [
              "0.917401468446824"
            ],
            "text/markdown": "0.917401468446824",
            "text/latex": "0.917401468446824",
            "text/plain": [
              "[1] 0.9174015"
            ]
          },
          "metadata": {}
        },
        {
          "output_type": "display_data",
          "data": {
            "text/html": [
              "0.337245093119934"
            ],
            "text/markdown": "0.337245093119934",
            "text/latex": "0.337245093119934",
            "text/plain": [
              "[1] 0.3372451"
            ]
          },
          "metadata": {}
        }
      ]
    },
    {
      "cell_type": "markdown",
      "source": [
        "$0\\leq\\rho<1: W_p=\\frac{\\frac{W_0}{1-\\rho}-\\sum_{i=1}^{p-1}\\rho_i\\cdot W_i\\cdot(1-b_i/b_p)}{1-\\sum_{i=p+1}^P\\rho_i\\cdot(1-b_p/b_i)}$"
      ],
      "metadata": {
        "id": "I5IATupOFNix"
      }
    },
    {
      "cell_type": "code",
      "source": [
        "W <- rep(0,P)\n",
        "\n",
        "for (p in 1:P)\n",
        "{\n",
        "  num<-0\n",
        "  den<-0\n",
        "  if ((p-1)>=1) {\n",
        "  for (i in 1:(p-1))\n",
        "    num <- num+rho[i]*W[i]*(1-b[i]/b[p])}\n",
        "  num <- W0/(1-Rho) - num\n",
        "  if ((p+1)<=P) {\n",
        "  for (i in (p+1):P)\n",
        "    den <- den+rho[i]*(1-b[p]/b[i]) }\n",
        "  den <- 1 - den\n",
        "  W[p] <- num/den\n",
        "}\n",
        "W"
      ],
      "metadata": {
        "colab": {
          "base_uri": "https://localhost:8080/",
          "height": 34
        },
        "id": "2GBOXiwlNElL",
        "outputId": "c936ac8c-76a4-4fda-9bc6-d15ac67aa9d7"
      },
      "execution_count": null,
      "outputs": [
        {
          "output_type": "display_data",
          "data": {
            "text/html": [
              "<style>\n",
              ".list-inline {list-style: none; margin:0; padding: 0}\n",
              ".list-inline>li {display: inline-block}\n",
              ".list-inline>li:not(:last-child)::after {content: \"\\00b7\"; padding: 0 .5ex}\n",
              "</style>\n",
              "<ol class=list-inline><li>7.39056953412432</li><li>4.16246738736471</li><li>1.76876775417672</li><li>1.2107214410635</li></ol>\n"
            ],
            "text/markdown": "1. 7.39056953412432\n2. 4.16246738736471\n3. 1.76876775417672\n4. 1.2107214410635\n\n\n",
            "text/latex": "\\begin{enumerate*}\n\\item 7.39056953412432\n\\item 4.16246738736471\n\\item 1.76876775417672\n\\item 1.2107214410635\n\\end{enumerate*}\n",
            "text/plain": [
              "[1] 7.390570 4.162467 1.768768 1.210721"
            ]
          },
          "metadata": {}
        }
      ]
    },
    {
      "cell_type": "code",
      "source": [
        "install.packages(\"simmer\")\n",
        "library(simmer)"
      ],
      "metadata": {
        "colab": {
          "base_uri": "https://localhost:8080/"
        },
        "id": "pZEZHJv8YbN8",
        "outputId": "fa7f05b0-a216-4107-e050-76f369981bb6"
      },
      "execution_count": null,
      "outputs": [
        {
          "output_type": "stream",
          "name": "stderr",
          "text": [
            "Installing package into ‘/usr/local/lib/R/site-library’\n",
            "(as ‘lib’ is unspecified)\n",
            "\n",
            "also installing the dependencies ‘Rcpp’, ‘BH’\n",
            "\n",
            "\n"
          ]
        }
      ]
    },
    {
      "cell_type": "code",
      "source": [
        "SIM_TIME <- 500\n",
        "\n",
        "bs <- b * 100\n",
        "\n",
        "syst <- simmer(\"syst\")\n",
        "\n",
        "signal <- \"done\"\n",
        "\n",
        "recompute <- trajectory() %>%\n",
        "          set_prioritization(function() (c((now(syst)-get_attribute(syst,\"start\"))*get_attribute(syst, \"b\"),NA,F))) %>%\n",
        "          rollback(2)\n",
        "\n",
        "req <- trajectory(\"req's path\") %>%\n",
        "   set_attribute(\"start\", function() now(syst)) %>%\n",
        "   renege_if(signal, recompute) %>%\n",
        "   seize(\"server\") %>%\n",
        "   renege_abort() %>%\n",
        "   timeout_from_attribute(\"timeout\") %>%\n",
        "   set_capacity(\"server\", 0) %>%\n",
        "   send(signal) %>%\n",
        "   timeout(0) %>%\n",
        "   release(\"server\")%>%\n",
        "   set_capacity(\"server\", 1)\n",
        "\n",
        "syst %>%\n",
        "   add_resource(\"server\", mon=T,capacity=1, preemptive=F) %>% invisible\n",
        "\n",
        "   for (i in 1:P)\n",
        "   syst %>% add_generator(paste0(\"req\",i,\" \"),\n",
        "            join(trajectory()%>%\n",
        "                 set_attribute(\"type\", i)%>%\n",
        "                 set_attribute(\"timeout\", function() rexp(1, mu[i]))%>%\n",
        "                 set_attribute(\"b\", bs[i]),\n",
        "                 req),\n",
        "            from(function() rexp(1, lambda[i]), function() rexp(1, lambda[i])), mon=2, priority=0) ;\n",
        "\n",
        "syst %>% run(until = SIM_TIME) %>% invisible"
      ],
      "metadata": {
        "id": "lOGmCBB2ZogX"
      },
      "execution_count": null,
      "outputs": []
    },
    {
      "cell_type": "code",
      "source": [
        "stts <- get_mon_arrivals(syst, per_resource = T)\n",
        "stts <- aggregate(stts[,sapply(stts,is.numeric)],stts[\"name\"],sum)\n",
        "stts <- transform(stts,queue = end_time - start_time - activity_time)\n",
        "exp <- rep(0,P)\n",
        "for (i in 1:P) {\n",
        "   exp[i] <- mean(stts[substr(stts$name, 1, 4)==paste0(\"req\",i),]$queue)\n",
        "   print(exp[i])}"
      ],
      "metadata": {
        "colab": {
          "base_uri": "https://localhost:8080/"
        },
        "id": "zvchiMhb4Baq",
        "outputId": "ab19387f-d6ac-4694-ca5b-8f55e00dd438"
      },
      "execution_count": null,
      "outputs": [
        {
          "output_type": "stream",
          "name": "stdout",
          "text": [
            "[1] 7.139504\n",
            "[1] 4.18394\n",
            "[1] 1.569511\n",
            "[1] 1.036535\n"
          ]
        }
      ]
    },
    {
      "cell_type": "code",
      "source": [
        "df <- data.frame(c(1:P),W, exp)\n",
        "colnames(df) <-c(\"type\",\"theory\", \"experim\")\n",
        "df"
      ],
      "metadata": {
        "colab": {
          "base_uri": "https://localhost:8080/",
          "height": 224
        },
        "id": "vM52efFl8iun",
        "outputId": "3869d71d-9723-4c45-c162-7964bf0af288"
      },
      "execution_count": null,
      "outputs": [
        {
          "output_type": "display_data",
          "data": {
            "text/html": [
              "<table class=\"dataframe\">\n",
              "<caption>A data.frame: 4 × 3</caption>\n",
              "<thead>\n",
              "\t<tr><th scope=col>type</th><th scope=col>theory</th><th scope=col>experim</th></tr>\n",
              "\t<tr><th scope=col>&lt;int&gt;</th><th scope=col>&lt;dbl&gt;</th><th scope=col>&lt;dbl&gt;</th></tr>\n",
              "</thead>\n",
              "<tbody>\n",
              "\t<tr><td>1</td><td>7.390570</td><td>7.139504</td></tr>\n",
              "\t<tr><td>2</td><td>4.162467</td><td>4.183940</td></tr>\n",
              "\t<tr><td>3</td><td>1.768768</td><td>1.569511</td></tr>\n",
              "\t<tr><td>4</td><td>1.210721</td><td>1.036535</td></tr>\n",
              "</tbody>\n",
              "</table>\n"
            ],
            "text/markdown": "\nA data.frame: 4 × 3\n\n| type &lt;int&gt; | theory &lt;dbl&gt; | experim &lt;dbl&gt; |\n|---|---|---|\n| 1 | 7.390570 | 7.139504 |\n| 2 | 4.162467 | 4.183940 |\n| 3 | 1.768768 | 1.569511 |\n| 4 | 1.210721 | 1.036535 |\n\n",
            "text/latex": "A data.frame: 4 × 3\n\\begin{tabular}{lll}\n type & theory & experim\\\\\n <int> & <dbl> & <dbl>\\\\\n\\hline\n\t 1 & 7.390570 & 7.139504\\\\\n\t 2 & 4.162467 & 4.183940\\\\\n\t 3 & 1.768768 & 1.569511\\\\\n\t 4 & 1.210721 & 1.036535\\\\\n\\end{tabular}\n",
            "text/plain": [
              "  type theory   experim \n",
              "1 1    7.390570 7.139504\n",
              "2 2    4.162467 4.183940\n",
              "3 3    1.768768 1.569511\n",
              "4 4    1.210721 1.036535"
            ]
          },
          "metadata": {}
        }
      ]
    }
  ]
}